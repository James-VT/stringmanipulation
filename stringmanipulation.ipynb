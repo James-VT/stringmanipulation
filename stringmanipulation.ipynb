{
 "cells": [
  {
   "cell_type": "code",
   "execution_count": 11,
   "metadata": {},
   "outputs": [],
   "source": [
    "# This is where we import re (Regular Expressions), a Python module used for building regular expressions\n",
    "import re"
   ]
  },
  {
   "cell_type": "code",
   "execution_count": 12,
   "metadata": {},
   "outputs": [
    {
     "data": {
      "text/plain": [
       "'Real Python'"
      ]
     },
     "execution_count": 12,
     "metadata": {},
     "output_type": "execute_result"
    }
   ],
   "source": [
    "\"Fake Python\".replace(\"Fake\", \"Real\")"
   ]
  },
  {
   "cell_type": "code",
   "execution_count": 13,
   "metadata": {},
   "outputs": [
    {
     "name": "stdout",
     "output_type": "stream",
     "text": [
      "\n",
      "Agent  10:02:23 : What can I help you with?\n",
      "Client 10:03:15 : I CAN'T CONNECT TO MY 😤 ACCOUNT\n",
      "Agent  10:03:30 : Are you sure it's not your caps lock?\n",
      "Client 10:04:03 : 😤! You're right!\n",
      "\n"
     ]
    }
   ],
   "source": [
    "# REPLACEMENTS below is a list of tuples. First value is what is to be replaced, and the second value is what to replace it with. See note 1.\n",
    "\n",
    "REPLACEMENTS = [\n",
    "    (\"BLASTED\", \"😤\"),\n",
    "    (\"Blast\", \"😤\"),\n",
    "    (\"2022-08-24T\", \"\"),\n",
    "    (\"+00:00\", \"\"),\n",
    "    (\"[support_tom]\", \"Agent \"),\n",
    "    (\"[johndoe]\", \"Client\"),\n",
    "]\n",
    "\n",
    "transcript = \"\"\"\n",
    "[support_tom] 2022-08-24T10:02:23+00:00 : What can I help you with?\n",
    "[johndoe] 2022-08-24T10:03:15+00:00 : I CAN'T CONNECT TO MY BLASTED ACCOUNT\n",
    "[support_tom] 2022-08-24T10:03:30+00:00 : Are you sure it's not your caps lock?\n",
    "[johndoe] 2022-08-24T10:04:03+00:00 : Blast! You're right!\n",
    "\"\"\"\n",
    "\n",
    "# Iterate through the list of tuples, applying them to the transcript string. See note 2. \n",
    "\n",
    "for old, new in REPLACEMENTS:\n",
    "    transcript = transcript.replace(old, new)\n",
    "\n",
    "print(transcript)\n",
    "\n",
    "# See markdown box below"
   ]
  },
  {
   "cell_type": "markdown",
   "metadata": {},
   "source": [
    "Notes:\n",
    "\n",
    "1. In this version of your transcript-cleaning script, you created a list of replacement tuples, which gives you a quick way to add replacements. You could even create this list of tuples from an external CSV file if you had loads of replacements.\n",
    "\n",
    "2. You then iterate over the list of replacement tuples. In each iteration, you call .replace() on the string, populating the arguments with the old and new variables that have been unpacked from each replacement tuple.\n",
    "\n",
    "3. Note: The unpacking in the for loop in this case is functionally the same as using indexing:\n",
    "\n",
    "```\n",
    "for replacement in replacements:\n",
    "    new_transcript = new_transcript.replace(replacement[0], replacement[1])\n",
    "```"
   ]
  },
  {
   "cell_type": "code",
   "execution_count": 14,
   "metadata": {},
   "outputs": [
    {
     "name": "stdout",
     "output_type": "stream",
     "text": [
      "\n",
      "Agent  : What can I help you with?\n",
      "Client : I CAN'T CONNECT TO MY 😤 ACCOUNT\n",
      "Agent  : Are you sure it's not your caps lock?\n",
      "Client : 😤! You're right!\n",
      "\n"
     ]
    }
   ],
   "source": [
    "# Here we're using Regex to make the words/strings to be replaced a lot more general.\n",
    "\n",
    "REGEX_REPLACEMENTS = [\n",
    "    (r\"blast\\w*\", \"😤\"), # See note 4\n",
    "    (r\" [-T:+\\d]{25}\", \"\"), # See note 5\n",
    "    (r\"\\[support\\w*\\]\", \"Agent \"),\n",
    "    (r\"\\[johndoe\\]\", \"Client\"),\n",
    "]\n",
    "\n",
    "transcript = \"\"\"\n",
    "[support_tom] 2022-08-24T10:02:23+00:00 : What can I help you with?\n",
    "[johndoe] 2022-08-24T10:03:15+00:00 : I CAN'T CONNECT TO MY BLASTED ACCOUNT\n",
    "[support_tom] 2022-08-24T10:03:30+00:00 : Are you sure it's not your caps lock?\n",
    "[johndoe] 2022-08-24T10:04:03+00:00 : Blast! You're right!\n",
    "\"\"\"\n",
    "\n",
    "for old, new in REGEX_REPLACEMENTS:\n",
    "    transcript = re.sub(old, new, transcript, flags=re.IGNORECASE)\n",
    "\n",
    "print(transcript)\n"
   ]
  },
  {
   "cell_type": "markdown",
   "metadata": {},
   "source": [
    "Notes:\n",
    "\n",
    "4. We're using the \"\\w\" special character here, which matches any alphanumeric characters and underscores. One must also specify how many instances of such characters will be affected, which we do by using *. The asterisk tells the code \"match zero or more;\" basically, match all of the (alphanumeric or underscore) characters you find.\n",
    "\n",
    "5. This second regex pattern replaces the time stamp using character sets and quantifiers. It looks wild, but let's try to break down what it does. First, we'll start at the end: the quantifier {25}. This is used instead of the * used above. The asterisk tells the code \"find all of them.\" Using {25} tells the code {find 25 of them, then stop.} The "
   ]
  }
 ],
 "metadata": {
  "kernelspec": {
   "display_name": "Python 3.9.0 64-bit",
   "language": "python",
   "name": "python3"
  },
  "language_info": {
   "codemirror_mode": {
    "name": "ipython",
    "version": 3
   },
   "file_extension": ".py",
   "mimetype": "text/x-python",
   "name": "python",
   "nbconvert_exporter": "python",
   "pygments_lexer": "ipython3",
   "version": "3.9.0"
  },
  "orig_nbformat": 4,
  "vscode": {
   "interpreter": {
    "hash": "80b0705b09bbb0c1cb9b17eb1071dfaec0b86e3665e90631d3235a60e301b8f8"
   }
  }
 },
 "nbformat": 4,
 "nbformat_minor": 2
}
