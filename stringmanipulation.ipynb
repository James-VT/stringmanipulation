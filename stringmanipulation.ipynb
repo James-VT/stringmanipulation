{
 "cells": [
  {
   "cell_type": "code",
   "execution_count": 4,
   "metadata": {},
   "outputs": [
    {
     "data": {
      "text/plain": [
       "'Real Python'"
      ]
     },
     "execution_count": 4,
     "metadata": {},
     "output_type": "execute_result"
    }
   ],
   "source": [
    "\"Fake Python\".replace(\"Fake\", \"Real\")"
   ]
  },
  {
   "cell_type": "code",
   "execution_count": 5,
   "metadata": {},
   "outputs": [
    {
     "name": "stdout",
     "output_type": "stream",
     "text": [
      "\n",
      "Agent  10:02:23 : What can I help you with?\n",
      "Client 10:03:15 : I CAN'T CONNECT TO MY 😤 ACCOUNT\n",
      "Agent  10:03:30 : Are you sure it's not your caps lock?\n",
      "Client 10:04:03 : 😤! You're right!\n",
      "\n"
     ]
    }
   ],
   "source": [
    "# REPLACEMENTS below is a list of tuples. First value is what is to be replaced, and the second value is what to replace it with.\n",
    "\n",
    "REPLACEMENTS = [\n",
    "    (\"BLASTED\", \"😤\"),\n",
    "    (\"Blast\", \"😤\"),\n",
    "    (\"2022-08-24T\", \"\"),\n",
    "    (\"+00:00\", \"\"),\n",
    "    (\"[support_tom]\", \"Agent \"),\n",
    "    (\"[johndoe]\", \"Client\"),\n",
    "]\n",
    "\n",
    "transcript = \"\"\"\n",
    "[support_tom] 2022-08-24T10:02:23+00:00 : What can I help you with?\n",
    "[johndoe] 2022-08-24T10:03:15+00:00 : I CAN'T CONNECT TO MY BLASTED ACCOUNT\n",
    "[support_tom] 2022-08-24T10:03:30+00:00 : Are you sure it's not your caps lock?\n",
    "[johndoe] 2022-08-24T10:04:03+00:00 : Blast! You're right!\n",
    "\"\"\"\n",
    "\n",
    "# Iterate through the list of tuples, applying them to the transcript string\n",
    "\n",
    "for old, new in REPLACEMENTS:\n",
    "    transcript = transcript.replace(old, new)\n",
    "\n",
    "print(transcript)\n",
    "\n",
    "# See markdown box below"
   ]
  },
  {
   "cell_type": "markdown",
   "metadata": {},
   "source": [
    "In this version of your transcript-cleaning script, you created a list of replacement tuples, which gives you a quick way to add replacements. You could even create this list of tuples from an external CSV file if you had loads of replacements.\n",
    "\n",
    "You then iterate over the list of replacement tuples. In each iteration, you call .replace() on the string, populating the arguments with the old and new variables that have been unpacked from each replacement tuple."
   ]
  }
 ],
 "metadata": {
  "kernelspec": {
   "display_name": "Python 3.9.0 64-bit",
   "language": "python",
   "name": "python3"
  },
  "language_info": {
   "codemirror_mode": {
    "name": "ipython",
    "version": 3
   },
   "file_extension": ".py",
   "mimetype": "text/x-python",
   "name": "python",
   "nbconvert_exporter": "python",
   "pygments_lexer": "ipython3",
   "version": "3.9.0"
  },
  "orig_nbformat": 4,
  "vscode": {
   "interpreter": {
    "hash": "80b0705b09bbb0c1cb9b17eb1071dfaec0b86e3665e90631d3235a60e301b8f8"
   }
  }
 },
 "nbformat": 4,
 "nbformat_minor": 2
}
